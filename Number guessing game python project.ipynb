{
 "cells": [
  {
   "cell_type": "code",
   "execution_count": null,
   "id": "c266bd72-2505-4524-b80e-ad2046722887",
   "metadata": {},
   "outputs": [
    {
     "name": "stdout",
     "output_type": "stream",
     "text": [
      "Welcome to the Number Guessing Game by Shweta!\n",
      "I'm thinking of a number between 1 and 100.\n",
      "You have 10 tries to guess it. All the Best! \n"
     ]
    },
    {
     "name": "stdin",
     "output_type": "stream",
     "text": [
      "Enter your guess:  67\n"
     ]
    },
    {
     "name": "stdout",
     "output_type": "stream",
     "text": [
      "Too low! Try again.\n"
     ]
    },
    {
     "name": "stdin",
     "output_type": "stream",
     "text": [
      "Enter your guess:  96\n"
     ]
    },
    {
     "name": "stdout",
     "output_type": "stream",
     "text": [
      "Too high! Try again.\n"
     ]
    },
    {
     "name": "stdin",
     "output_type": "stream",
     "text": [
      "Enter your guess:  24\n"
     ]
    },
    {
     "name": "stdout",
     "output_type": "stream",
     "text": [
      "Too low! Try again.\n"
     ]
    }
   ],
   "source": [
    "import random  \n",
    "\n",
    "print(\"Welcome to the Number Guessing Game by Shweta!\")\n",
    "print(\"I'm thinking of a number between 1 and 100.\")\n",
    "print(\"You have 10 tries to guess it. All the Best! \")\n",
    "\n",
    "\n",
    "number_to_guess = random.randint(1, 100)\n",
    "tries = 0 \n",
    "max_tries = 10 \n",
    "\n",
    "while tries < max_tries:\n",
    "    try:\n",
    "        guess = int(input(\"Enter your guess: \")) \n",
    "        tries += 1  \n",
    "\n",
    "        if guess < number_to_guess:\n",
    "            print(\"Too low! Try again.\")\n",
    "        elif guess > number_to_guess:\n",
    "            print(\"Too high! Try again.\")\n",
    "        else:\n",
    "            print(f\" Correct! You guessed it in {tries} tries.\")\n",
    "            break \n",
    "    except ValueError:\n",
    "        print(\"Please enter a number only.\")\n",
    "\n",
    "\n",
    "if tries == max_tries and guess != number_to_guess:\n",
    "    print(f\" Out of tries! The number was {number_to_guess}. Better luck next time!\")\n"
   ]
  },
  {
   "cell_type": "code",
   "execution_count": null,
   "id": "479478ca-ed05-4e19-9897-078e0483a02d",
   "metadata": {},
   "outputs": [],
   "source": []
  }
 ],
 "metadata": {
  "kernelspec": {
   "display_name": "Python 3 (ipykernel)",
   "language": "python",
   "name": "python3"
  },
  "language_info": {
   "codemirror_mode": {
    "name": "ipython",
    "version": 3
   },
   "file_extension": ".py",
   "mimetype": "text/x-python",
   "name": "python",
   "nbconvert_exporter": "python",
   "pygments_lexer": "ipython3",
   "version": "3.12.7"
  }
 },
 "nbformat": 4,
 "nbformat_minor": 5
}
